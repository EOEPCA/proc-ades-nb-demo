{
 "cells": [
  {
   "cell_type": "markdown",
   "metadata": {},
   "source": [
    "## ADES demonstration - OGC API Processes \n",
    "\n"
   ]
  },
  {
   "cell_type": "code",
   "execution_count": 103,
   "metadata": {},
   "outputs": [],
   "source": [
    "import requests\n",
    "import os\n",
    "import getpass\n",
    "import json\n",
    "import yaml\n",
    "from time import sleep"
   ]
  },
  {
   "cell_type": "markdown",
   "metadata": {},
   "source": [
    "## Discover a registered process"
   ]
  },
  {
   "cell_type": "code",
   "execution_count": 2,
   "metadata": {},
   "outputs": [],
   "source": [
    "rm_endpoint = 'https://catalog.terradue.com/eoepca-services/search'"
   ]
  },
  {
   "cell_type": "code",
   "execution_count": 3,
   "metadata": {},
   "outputs": [
    {
     "name": "stdout",
     "output_type": "stream",
     "text": [
      "200 OK\n"
     ]
    }
   ],
   "source": [
    "payload = {'uid': 'vegetation-index',\n",
    "           'format': 'json'}\n",
    "\n",
    "r = requests.get(rm_endpoint, \n",
    "                 params=payload)\n",
    "                 \n",
    "print(r.status_code, r.reason)"
   ]
  },
  {
   "cell_type": "code",
   "execution_count": 4,
   "metadata": {},
   "outputs": [
    {
     "data": {
      "text/plain": [
       "{'id': 'https://catalog.terradue.com:443/eoepca-services/search?uid=vegetation-index&format=json',\n",
       " 'properties': {'links': [{'@href': 'https://catalog.terradue.com/eoepca-services/search?uid=vegetation-index&format=json',\n",
       "    '@rel': 'self',\n",
       "    '@title': 'Reference link',\n",
       "    '@type': 'application/json'},\n",
       "   {'@href': 'https://catalog.terradue.com/eoepca-services/description',\n",
       "    '@rel': 'search',\n",
       "    '@title': 'OpenSearch Description link',\n",
       "    '@type': 'application/opensearchdescription+xml'}],\n",
       "  'updated': '2020-10-21T12:27:08Z',\n",
       "  'title': 'Result for OpenSearch query over type * in index eoepca-services',\n",
       "  'debugRequest': None,\n",
       "  'debugResponse': None,\n",
       "  'totalResults': '1',\n",
       "  'startIndex': '1',\n",
       "  'itemsPerPage': '20',\n",
       "  'Query': {'@role': 'request', '@geo:uid': 'vegetation-index'}},\n",
       " 'features': [{'id': 'https://catalog.terradue.com:443/eoepca-services/search?format=json&uid=vegetation-index',\n",
       "   'properties': {'links': [{'@href': 'https://catalog.terradue.com/eoepca-services/search?format=json&uid=vegetation-index',\n",
       "      '@rel': 'self',\n",
       "      '@title': 'Reference link',\n",
       "      '@type': 'application/json'}],\n",
       "    'updated': '2020-09-25T10:34:19Z',\n",
       "    'published': '2020-10-21T12:27:08Z',\n",
       "    'title': 'Vegetation index',\n",
       "    'summary': 'Vegetation index processor',\n",
       "    'content': {'type': 'html', 'value': 'Vegetation index processor'},\n",
       "    'offering': {'@code': 'http://www.opengis.net/eoc/applicationContext/cwl',\n",
       "     'content': {'@type': 'application/cwl',\n",
       "      '#text': \"$graph:\\n- baseCommand: vegetation-index\\n  class: CommandLineTool\\n  hints:\\n    DockerRequirement:\\n      dockerPull: terradue/eoepca-vegetation-index:0.1\\n  id: clt\\n  inputs:\\n    inp1:\\n      inputBinding:\\n        position: 1\\n        prefix: --input-reference\\n      type: Directory\\n    inp2:\\n      inputBinding:\\n        position: 2\\n        prefix: --aoi\\n      type: string\\n  outputs:\\n    results:\\n      outputBinding:\\n        glob: .\\n      type: Any\\n  requirements:\\n    EnvVarRequirement:\\n      envDef:\\n        PATH: /opt/anaconda/envs/env_vi/bin:/opt/anaconda/envs/env_vi/bin:/opt/anaconda/envs/env_default/bin:/opt/anaconda/bin:/usr/local/sbin:/usr/local/bin:/usr/sbin:/usr/bin:/sbin:/bin\\n        PREFIX: /opt/anaconda/envs/env_vi\\n    ResourceRequirement: {}\\n- class: Workflow\\n  doc: Vegetation index processor\\n  id: vegetation-index\\n  inputs:\\n    aoi:\\n      doc: Area of interest in WKT\\n      label: Area of interest\\n      type: string\\n    input_reference:\\n      doc: EO product for vegetation index\\n      label: EO product for vegetation index\\n      stac:catalog: catalog.json\\n      stac:collection: source\\n      type: Directory[]\\n  label: Vegetation index\\n  outputs:\\n  - id: wf_outputs\\n    outputSource:\\n    - node_1/results\\n    type:\\n      items: Directory\\n      type: array\\n  requirements:\\n  - class: ScatterFeatureRequirement\\n  steps:\\n    node_1:\\n      in:\\n        inp1: input_reference\\n        inp2: aoi\\n      out:\\n      - results\\n      run: '#clt'\\n      scatter: inp1\\n      scatterMethod: dotproduct\\n$namespaces:\\n  stac: http://www.me.net/stac/cwl/extension\\ncwlVersion: v1.0\\n\"}},\n",
       "    'identifier': 'vegetation-index'},\n",
       "   'type': 'Feature'}],\n",
       " 'type': 'FeatureCollection'}"
      ]
     },
     "execution_count": 4,
     "metadata": {},
     "output_type": "execute_result"
    }
   ],
   "source": [
    "response = r.json()\n",
    "\n",
    "response"
   ]
  },
  {
   "cell_type": "markdown",
   "metadata": {},
   "source": [
    "Here's the Application Package CWL:"
   ]
  },
  {
   "cell_type": "code",
   "execution_count": 5,
   "metadata": {},
   "outputs": [],
   "source": [
    "application_package = yaml.safe_load(response['features'][0]['properties']['offering']['content']['#text'])"
   ]
  },
  {
   "cell_type": "code",
   "execution_count": 6,
   "metadata": {},
   "outputs": [
    {
     "data": {
      "text/plain": [
       "{'$graph': [{'baseCommand': 'vegetation-index',\n",
       "   'class': 'CommandLineTool',\n",
       "   'hints': {'DockerRequirement': {'dockerPull': 'terradue/eoepca-vegetation-index:0.1'}},\n",
       "   'id': 'clt',\n",
       "   'inputs': {'inp1': {'inputBinding': {'position': 1,\n",
       "      'prefix': '--input-reference'},\n",
       "     'type': 'Directory'},\n",
       "    'inp2': {'inputBinding': {'position': 2, 'prefix': '--aoi'},\n",
       "     'type': 'string'}},\n",
       "   'outputs': {'results': {'outputBinding': {'glob': '.'}, 'type': 'Any'}},\n",
       "   'requirements': {'EnvVarRequirement': {'envDef': {'PATH': '/opt/anaconda/envs/env_vi/bin:/opt/anaconda/envs/env_vi/bin:/opt/anaconda/envs/env_default/bin:/opt/anaconda/bin:/usr/local/sbin:/usr/local/bin:/usr/sbin:/usr/bin:/sbin:/bin',\n",
       "      'PREFIX': '/opt/anaconda/envs/env_vi'}},\n",
       "    'ResourceRequirement': {}}},\n",
       "  {'class': 'Workflow',\n",
       "   'doc': 'Vegetation index processor',\n",
       "   'id': 'vegetation-index',\n",
       "   'inputs': {'aoi': {'doc': 'Area of interest in WKT',\n",
       "     'label': 'Area of interest',\n",
       "     'type': 'string'},\n",
       "    'input_reference': {'doc': 'EO product for vegetation index',\n",
       "     'label': 'EO product for vegetation index',\n",
       "     'stac:catalog': 'catalog.json',\n",
       "     'stac:collection': 'source',\n",
       "     'type': 'Directory[]'}},\n",
       "   'label': 'Vegetation index',\n",
       "   'outputs': [{'id': 'wf_outputs',\n",
       "     'outputSource': ['node_1/results'],\n",
       "     'type': {'items': 'Directory', 'type': 'array'}}],\n",
       "   'requirements': [{'class': 'ScatterFeatureRequirement'}],\n",
       "   'steps': {'node_1': {'in': {'inp1': 'input_reference', 'inp2': 'aoi'},\n",
       "     'out': ['results'],\n",
       "     'run': '#clt',\n",
       "     'scatter': 'inp1',\n",
       "     'scatterMethod': 'dotproduct'}}}],\n",
       " '$namespaces': {'stac': 'http://www.me.net/stac/cwl/extension'},\n",
       " 'cwlVersion': 'v1.0'}"
      ]
     },
     "execution_count": 6,
     "metadata": {},
     "output_type": "execute_result"
    }
   ],
   "source": [
    "application_package"
   ]
  },
  {
   "cell_type": "markdown",
   "metadata": {},
   "source": [
    "## Deploy the process"
   ]
  },
  {
   "cell_type": "code",
   "execution_count": 7,
   "metadata": {},
   "outputs": [],
   "source": [
    "endpoint = 'http://wps-eoepca-dev.terradue.com' "
   ]
  },
  {
   "cell_type": "code",
   "execution_count": 8,
   "metadata": {},
   "outputs": [
    {
     "name": "stdin",
     "output_type": "stream",
     "text": [
      "Token: ···························································································································································································································································································································································································································································································································································································································································································································································································································································································································\n"
     ]
    }
   ],
   "source": [
    "token = getpass.getpass('Token:')"
   ]
  },
  {
   "cell_type": "code",
   "execution_count": 9,
   "metadata": {},
   "outputs": [],
   "source": [
    "deploy_headers = {'Authorization': f'Bearer {token}',\n",
    "                  'Content-Type': 'application/json',\n",
    "                  'Accept': 'application/json', \n",
    "                  'Prefer': 'respond-async'} "
   ]
  },
  {
   "cell_type": "code",
   "execution_count": 10,
   "metadata": {},
   "outputs": [],
   "source": [
    "deploy_payload = {'inputs': [{'id': 'applicationPackage',\n",
    "                              'input': {'format': {'mimeType': 'application/xml'},\n",
    "                                        'value': {'href': 'https://catalog.terradue.com/eoepca-services/search?uid=vegetation-index'}}}],\n",
    "                  'outputs': [{'format': {'mimeType': 'string',\n",
    "                                          'schema': 'string',\n",
    "                                          'encoding': 'string'},\n",
    "                               'id': 'deployResult',\n",
    "                               'transmissionMode': 'value'}],\n",
    "                  'mode': 'auto',\n",
    "                  'response': 'raw'}"
   ]
  },
  {
   "cell_type": "code",
   "execution_count": 11,
   "metadata": {},
   "outputs": [
    {
     "name": "stdout",
     "output_type": "stream",
     "text": [
      "201 Created\n"
     ]
    }
   ],
   "source": [
    "r = requests.post(f'{endpoint}/wps3/processes',\n",
    "                  json=deploy_payload,\n",
    "                  headers=deploy_headers)\n",
    "\n",
    "print(r.status_code, r.reason)"
   ]
  },
  {
   "cell_type": "markdown",
   "metadata": {},
   "source": [
    "## /processes"
   ]
  },
  {
   "cell_type": "code",
   "execution_count": 12,
   "metadata": {},
   "outputs": [],
   "source": [
    "headers = {'Authorization': f'Bearer {token}',\n",
    "           'Content-Type': 'application/json',\n",
    "           'Accept': 'application/json'}"
   ]
  },
  {
   "cell_type": "code",
   "execution_count": 13,
   "metadata": {},
   "outputs": [
    {
     "name": "stdout",
     "output_type": "stream",
     "text": [
      "200 OK\n"
     ]
    }
   ],
   "source": [
    "r = requests.get(f'{endpoint}/wps3/processes',\n",
    "                 headers=headers)\n",
    "\n",
    "print(r.status_code, r.reason)"
   ]
  },
  {
   "cell_type": "code",
   "execution_count": 14,
   "metadata": {},
   "outputs": [
    {
     "data": {
      "text/plain": [
       "{'processes': [{'id': 'eoepcaadesundeployprocess',\n",
       "   'title': 'Eoepca Deploy Process',\n",
       "   'abstract': 'This method will undeploy an application encapsulated within a Docker container as a process accessible through the WPS interface.',\n",
       "   'version': '1.0.0',\n",
       "   'jobControlOptions': ['sync-execute', 'async-execute', 'dismiss'],\n",
       "   'outputTransmission': ['value', 'reference'],\n",
       "   'links': [{'rel': 'canonical',\n",
       "     'type': 'application/json',\n",
       "     'title': 'Process Description',\n",
       "     'href': '/watchjob/processes/eoepcaadesundeployprocess/'}]},\n",
       "  {'id': 'eoepcaadesdeployprocess',\n",
       "   'title': 'Eoepca Deploy Process',\n",
       "   'abstract': 'This method will deploy an application encapsulated within a Docker container as a process accessible through the WPS interface.',\n",
       "   'version': '1.0.0',\n",
       "   'jobControlOptions': ['sync-execute', 'async-execute', 'dismiss'],\n",
       "   'outputTransmission': ['value', 'reference'],\n",
       "   'links': [{'rel': 'canonical',\n",
       "     'type': 'application/json',\n",
       "     'title': 'Process Description',\n",
       "     'href': '/watchjob/processes/eoepcaadesdeployprocess/'}]},\n",
       "  {'id': 'GetStatus',\n",
       "   'title': 'Produce an updated ExecuteResponse document. ',\n",
       "   'abstract': 'Create an ExecuteResponse document from a sid (Service ID), it will use the niternal ZOO Kernel mechanisms to access the current status from a running Service and update the percentCompleted from the original backup file used by the ZOO Kernel when running a Service in background. ',\n",
       "   'version': '1.0.0',\n",
       "   'jobControlOptions': ['sync-execute', 'async-execute', 'dismiss'],\n",
       "   'outputTransmission': ['value', 'reference'],\n",
       "   'links': [{'rel': 'canonical',\n",
       "     'type': 'application/json',\n",
       "     'title': 'Process Description',\n",
       "     'href': '/watchjob/processes/GetStatus/'}]},\n",
       "  {'id': 'vegetation_index_',\n",
       "   'title': 'Vegetation index',\n",
       "   'abstract': 'Vegetation index processor',\n",
       "   'jobControlOptions': ['sync-execute', 'async-execute', 'dismiss'],\n",
       "   'outputTransmission': ['value', 'reference'],\n",
       "   'links': [{'rel': 'canonical',\n",
       "     'type': 'application/json',\n",
       "     'title': 'Process Description',\n",
       "     'href': '/watchjob/processes/vegetation_index_/'}]}]}"
      ]
     },
     "execution_count": 14,
     "metadata": {},
     "output_type": "execute_result"
    }
   ],
   "source": [
    "response = r.json()\n",
    "\n",
    "response"
   ]
  },
  {
   "cell_type": "code",
   "execution_count": 15,
   "metadata": {},
   "outputs": [
    {
     "name": "stdout",
     "output_type": "stream",
     "text": [
      "Process id: eoepcaadesundeployprocess\n",
      "Eoepca Deploy Process - This method will undeploy an application encapsulated within a Docker container as a process accessible through the WPS interface.\n",
      "\n",
      "Process id: eoepcaadesdeployprocess\n",
      "Eoepca Deploy Process - This method will deploy an application encapsulated within a Docker container as a process accessible through the WPS interface.\n",
      "\n",
      "Process id: GetStatus\n",
      "Produce an updated ExecuteResponse document.  - Create an ExecuteResponse document from a sid (Service ID), it will use the niternal ZOO Kernel mechanisms to access the current status from a running Service and update the percentCompleted from the original backup file used by the ZOO Kernel when running a Service in background. \n",
      "\n",
      "Process id: vegetation_index_\n",
      "Vegetation index - Vegetation index processor\n",
      "\n"
     ]
    }
   ],
   "source": [
    "for process in response['processes']:\n",
    "    \n",
    "    print('Process id: {}\\n{} - {}\\n'.format(process['id'], \n",
    "                                             process['title'], \n",
    "                                             process['abstract']))"
   ]
  },
  {
   "cell_type": "markdown",
   "metadata": {},
   "source": [
    "## /processes/{id}"
   ]
  },
  {
   "cell_type": "code",
   "execution_count": 34,
   "metadata": {},
   "outputs": [],
   "source": [
    "process_id = 'vegetation_index_'"
   ]
  },
  {
   "cell_type": "code",
   "execution_count": 35,
   "metadata": {},
   "outputs": [
    {
     "name": "stdout",
     "output_type": "stream",
     "text": [
      "200 OK\n"
     ]
    }
   ],
   "source": [
    "r = requests.get(f'{endpoint}/wps3/processes/{process_id}',\n",
    "                 headers=headers)\n",
    "\n",
    "print(r.status_code, r.reason)"
   ]
  },
  {
   "cell_type": "code",
   "execution_count": 36,
   "metadata": {},
   "outputs": [
    {
     "data": {
      "text/plain": [
       "{'process': {'id': 'vegetation_index_',\n",
       "  'title': 'Vegetation index',\n",
       "  'abstract': 'Vegetation index processor',\n",
       "  'jobControlOptions': ['sync-execute', 'async-execute', 'dismiss'],\n",
       "  'outputTransmission': ['value', 'reference'],\n",
       "  'links': [{'rel': 'canonical',\n",
       "    'type': 'application/json',\n",
       "    'title': 'Execute End Point',\n",
       "    'href': '/watchjob/processes/vegetation_index_/jobs/'}],\n",
       "  'inputs': [{'id': 'aoi',\n",
       "    'title': 'Area of interest',\n",
       "    'abstract': 'Area of interest in WKT',\n",
       "    'minOccurs': '1',\n",
       "    'maxOccurs': '1',\n",
       "    'input': {'literalDataDomains': [{'dataType': {'name': 'string'},\n",
       "       'valueDefinition': {'anyValue': True}}]}},\n",
       "   {'id': 'input_reference',\n",
       "    'title': 'EO product for vegetation index',\n",
       "    'abstract': 'EO product for vegetation index',\n",
       "    'minOccurs': '1',\n",
       "    'maxOccurs': '999',\n",
       "    'input': {'formats': [{'default': True,\n",
       "       'mimeType': 'application/opensearchdescription+xml'},\n",
       "      {'default': False, 'mimeType': 'application/atom+xml'},\n",
       "      {'default': False, 'mimeType': 'application/geo+json; profile=stac'}]}}],\n",
       "  'outputs': [{'id': 'wf_outputs',\n",
       "    'title': 'wf_outputs',\n",
       "    'output': {'formats': [{'default': True,\n",
       "       'mimeType': 'application/json'}]}}]}}"
      ]
     },
     "execution_count": 36,
     "metadata": {},
     "output_type": "execute_result"
    }
   ],
   "source": [
    "response = r.json()\n",
    "\n",
    "response"
   ]
  },
  {
   "cell_type": "markdown",
   "metadata": {},
   "source": [
    "List the inputs"
   ]
  },
  {
   "cell_type": "code",
   "execution_count": 37,
   "metadata": {},
   "outputs": [],
   "source": [
    "inputs = response['process']['inputs']"
   ]
  },
  {
   "cell_type": "code",
   "execution_count": 38,
   "metadata": {},
   "outputs": [
    {
     "data": {
      "text/plain": [
       "[{'id': 'aoi',\n",
       "  'title': 'Area of interest',\n",
       "  'abstract': 'Area of interest in WKT',\n",
       "  'minOccurs': '1',\n",
       "  'maxOccurs': '1',\n",
       "  'input': {'literalDataDomains': [{'dataType': {'name': 'string'},\n",
       "     'valueDefinition': {'anyValue': True}}]}},\n",
       " {'id': 'input_reference',\n",
       "  'title': 'EO product for vegetation index',\n",
       "  'abstract': 'EO product for vegetation index',\n",
       "  'minOccurs': '1',\n",
       "  'maxOccurs': '999',\n",
       "  'input': {'formats': [{'default': True,\n",
       "     'mimeType': 'application/opensearchdescription+xml'},\n",
       "    {'default': False, 'mimeType': 'application/atom+xml'},\n",
       "    {'default': False, 'mimeType': 'application/geo+json; profile=stac'}]}}]"
      ]
     },
     "execution_count": 38,
     "metadata": {},
     "output_type": "execute_result"
    }
   ],
   "source": [
    "inputs"
   ]
  },
  {
   "cell_type": "markdown",
   "metadata": {},
   "source": [
    "## Execute - /processes/{id}/jobs"
   ]
  },
  {
   "cell_type": "code",
   "execution_count": 152,
   "metadata": {},
   "outputs": [],
   "source": [
    "execute_request = {'inputs': [{'id': 'input_reference',\n",
    "                               'input': {'dataType': {'name': 'string'},\n",
    "                                         'value': 'https://catalog.terradue.com/sentinel2/search?uid=S2A_MSIL2A_20191216T004701_N0213_R102_T53HPA_20191216T024808'}},\n",
    "                              {'id': 'aoi',\n",
    "                               'input': {'dataType': {'name': 'string'},\n",
    "                                         'value': 'POLYGON((136.112726861895 -36.227897298303,137.333826362695 -36.2103069464338,137.305145407058 -35.2211228310596,136.099040812374 -35.2380875358202,136.112726861895 -36.227897298303))'}}],\n",
    "                   'outputs': [{'format': {'mimeType': 'string',\n",
    "                                           'schema': 'string',\n",
    "                                           'encoding': 'string'},\n",
    "                                'id': 'wf_output',\n",
    "                                'transmissionMode': 'value'}],\n",
    "                   'mode': 'async',\n",
    "                   'response': 'raw'}"
   ]
  },
  {
   "cell_type": "code",
   "execution_count": 153,
   "metadata": {},
   "outputs": [],
   "source": [
    "execution_headers = {'Authorization': f'Bearer {token}',\n",
    "                       'Content-Type': 'application/json',\n",
    "                       'Accept': 'application/json', \n",
    "                       'Prefer': 'respond-async'}"
   ]
  },
  {
   "cell_type": "code",
   "execution_count": 154,
   "metadata": {},
   "outputs": [],
   "source": [
    "process_id = 'vegetation_index_'"
   ]
  },
  {
   "cell_type": "code",
   "execution_count": 155,
   "metadata": {},
   "outputs": [
    {
     "name": "stdout",
     "output_type": "stream",
     "text": [
      "201 Created\n"
     ]
    }
   ],
   "source": [
    "r = requests.post(f'{endpoint}/wps3/processes/{process_id}/jobs',\n",
    "                  json=execute_request,\n",
    "                  headers=execution_headers)\n",
    "\n",
    "print(r.status_code, r.reason)"
   ]
  },
  {
   "cell_type": "code",
   "execution_count": 156,
   "metadata": {},
   "outputs": [
    {
     "data": {
      "text/plain": [
       "'/watchjob/processes/vegetation_index_/jobs/b14b1cc0-13a8-11eb-acf2-0a580a8105b1'"
      ]
     },
     "execution_count": 156,
     "metadata": {},
     "output_type": "execute_result"
    }
   ],
   "source": [
    "job_location = r.headers['Location']\n",
    "\n",
    "job_location"
   ]
  },
  {
   "cell_type": "markdown",
   "metadata": {},
   "source": [
    "## /processes/{id}/jobs"
   ]
  },
  {
   "cell_type": "code",
   "execution_count": 157,
   "metadata": {},
   "outputs": [
    {
     "name": "stdout",
     "output_type": "stream",
     "text": [
      "200 OK\n"
     ]
    }
   ],
   "source": [
    "r = requests.get(f'{endpoint}{job_location}',\n",
    "                 headers=headers)\n",
    "\n",
    "print(r.status_code, r.reason)"
   ]
  },
  {
   "cell_type": "code",
   "execution_count": 158,
   "metadata": {},
   "outputs": [
    {
     "data": {
      "text/plain": [
       "{'jobID': 'b14b1cc0-13a8-11eb-acf2-0a580a8105b1',\n",
       " 'status': 'failed',\n",
       " 'message': 'Done',\n",
       " 'progress': '100',\n",
       " 'links': [{'href': 'http://wps-eoepca-dev.terradue.com/t2dep//processes/vegetation_index_/jobs/b14b1cc0-13a8-11eb-acf2-0a580a8105b1',\n",
       "   'rel': 'self',\n",
       "   'type': 'application/json',\n",
       "   'title': 'get Status'}]}"
      ]
     },
     "execution_count": 158,
     "metadata": {},
     "output_type": "execute_result"
    }
   ],
   "source": [
    "response = r.json()\n",
    "\n",
    "response"
   ]
  },
  {
   "cell_type": "code",
   "execution_count": 142,
   "metadata": {},
   "outputs": [
    {
     "name": "stdout",
     "output_type": "stream",
     "text": [
      "Polling\n"
     ]
    },
    {
     "ename": "KeyboardInterrupt",
     "evalue": "",
     "output_type": "error",
     "traceback": [
      "\u001b[0;31m---------------------------------------------------------------------------\u001b[0m",
      "\u001b[0;31mKeyboardInterrupt\u001b[0m                         Traceback (most recent call last)",
      "\u001b[0;32m<ipython-input-142-6aea4593462b>\u001b[0m in \u001b[0;36m<module>\u001b[0;34m\u001b[0m\n\u001b[1;32m     10\u001b[0m \u001b[0;34m\u001b[0m\u001b[0m\n\u001b[1;32m     11\u001b[0m         \u001b[0mprint\u001b[0m\u001b[0;34m(\u001b[0m\u001b[0;34m'Polling'\u001b[0m\u001b[0;34m)\u001b[0m\u001b[0;34m\u001b[0m\u001b[0;34m\u001b[0m\u001b[0m\n\u001b[0;32m---> 12\u001b[0;31m         \u001b[0msleep\u001b[0m\u001b[0;34m(\u001b[0m\u001b[0;36m30\u001b[0m\u001b[0;34m)\u001b[0m\u001b[0;34m\u001b[0m\u001b[0;34m\u001b[0m\u001b[0m\n\u001b[0m",
      "\u001b[0;31mKeyboardInterrupt\u001b[0m: "
     ]
    }
   ],
   "source": [
    "\n",
    "while response['status'] == 'running':\n",
    "\n",
    "    if response['status'] == 'successful':  \n",
    "\n",
    "        print(response['links'][0]['href'])\n",
    "        \n",
    "        break\n",
    "    \n",
    "    else:\n",
    "        \n",
    "        print('Polling')\n",
    "        sleep(30)"
   ]
  },
  {
   "cell_type": "markdown",
   "metadata": {},
   "source": [
    "## Get the job results"
   ]
  },
  {
   "cell_type": "code",
   "execution_count": null,
   "metadata": {},
   "outputs": [],
   "source": [
    "r = requests.get(f'{endpoint}/{status_url}/result',\n",
    "                 headers=headers)\n",
    "\n",
    "print(r.status_code, r.reason)"
   ]
  },
  {
   "cell_type": "code",
   "execution_count": null,
   "metadata": {},
   "outputs": [],
   "source": [
    "response = r.json()\n",
    "\n",
    "response"
   ]
  },
  {
   "cell_type": "code",
   "execution_count": null,
   "metadata": {},
   "outputs": [],
   "source": [
    "results = json.loads(response['outputs'][0]['value']['inlineValue'])\n",
    "\n",
    "results"
   ]
  },
  {
   "cell_type": "markdown",
   "metadata": {},
   "source": [
    "## Inspect the results\n",
    "\n",
    "Use the STAC catalog endpoint in the \"Exploiting the result.ipynb\" Notebook "
   ]
  },
  {
   "cell_type": "code",
   "execution_count": null,
   "metadata": {},
   "outputs": [],
   "source": [
    "stac_catalog_endpoint = results['stac:catalog']['href']\n",
    "\n",
    "stac_catalog_endpoint"
   ]
  },
  {
   "cell_type": "code",
   "execution_count": null,
   "metadata": {},
   "outputs": [],
   "source": []
  }
 ],
 "metadata": {
  "kernelspec": {
   "display_name": "EOPECA-demo",
   "language": "python",
   "name": "eopeca-demo"
  },
  "language_info": {
   "codemirror_mode": {
    "name": "ipython",
    "version": 3
   },
   "file_extension": ".py",
   "mimetype": "text/x-python",
   "name": "python",
   "nbconvert_exporter": "python",
   "pygments_lexer": "ipython3",
   "version": "3.9.0"
  }
 },
 "nbformat": 4,
 "nbformat_minor": 4
}
