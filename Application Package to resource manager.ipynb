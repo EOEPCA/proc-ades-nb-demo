{
 "cells": [
  {
   "cell_type": "markdown",
   "metadata": {},
   "source": [
    "## Application Package publication on Resource Manager"
   ]
  },
  {
   "cell_type": "code",
   "execution_count": 1,
   "metadata": {},
   "outputs": [],
   "source": [
    "\n",
    "import sys\n",
    "import yaml\n",
    "import os\n",
    "from helpers import Atom, post_atom\n",
    "from lxml import etree\n",
    "import datetime\n",
    "import hashlib"
   ]
  },
  {
   "cell_type": "code",
   "execution_count": 2,
   "metadata": {},
   "outputs": [],
   "source": [
    "%load_ext autoreload"
   ]
  },
  {
   "cell_type": "code",
   "execution_count": 3,
   "metadata": {},
   "outputs": [],
   "source": [
    "application_package = 'vegetation-index.cwl'"
   ]
  },
  {
   "cell_type": "code",
   "execution_count": 4,
   "metadata": {},
   "outputs": [],
   "source": [
    "with open(application_package, 'r') as stream:\n",
    "    try:\n",
    "        cwl = yaml.safe_load(stream)\n",
    "\n",
    "        stream.seek(0)\n",
    "\n",
    "        cwl_content = ''.join(stream.readlines())\n",
    "    except yaml.YAMLError as exc:\n",
    "        raise"
   ]
  },
  {
   "cell_type": "code",
   "execution_count": 5,
   "metadata": {},
   "outputs": [
    {
     "name": "stdout",
     "output_type": "stream",
     "text": [
      "$graph:\n",
      "- baseCommand: vegetation-index\n",
      "  class: CommandLineTool\n",
      "  hints:\n",
      "    DockerRequirement:\n",
      "      dockerPull: terradue/eoepca-vegetation-index:0.1\n",
      "  id: clt\n",
      "  inputs:\n",
      "    inp1:\n",
      "      inputBinding:\n",
      "        position: 1\n",
      "        prefix: --input-reference\n",
      "      type: Directory\n",
      "    inp2:\n",
      "      inputBinding:\n",
      "        position: 2\n",
      "        prefix: --aoi\n",
      "      type: string\n",
      "  outputs:\n",
      "    results:\n",
      "      outputBinding:\n",
      "        glob: .\n",
      "      type: Any\n",
      "  requirements:\n",
      "    EnvVarRequirement:\n",
      "      envDef:\n",
      "        PATH: /opt/anaconda/envs/env_vi/bin:/opt/anaconda/envs/env_vi/bin:/opt/anaconda/envs/env_default/bin:/opt/anaconda/bin:/usr/local/sbin:/usr/local/bin:/usr/sbin:/usr/bin:/sbin:/bin\n",
      "        PREFIX: /opt/anaconda/envs/env_vi\n",
      "    ResourceRequirement: {}\n",
      "- class: Workflow\n",
      "  doc: Vegetation index processor\n",
      "  id: vegetation-index\n",
      "  inputs:\n",
      "    aoi:\n",
      "      doc: Area of interest in WKT\n",
      "      label: Area of interest\n",
      "      type: string\n",
      "    input_reference:\n",
      "      doc: EO product for vegetation index\n",
      "      label: EO product for vegetation index\n",
      "      stac:catalog: catalog.json\n",
      "      stac:collection: source\n",
      "      type: Directory[]\n",
      "  label: Vegetation index\n",
      "  outputs:\n",
      "  - id: wf_outputs\n",
      "    outputSource:\n",
      "    - node_1/results\n",
      "    type:\n",
      "      items: Directory\n",
      "      type: array\n",
      "  requirements:\n",
      "  - class: ScatterFeatureRequirement\n",
      "  steps:\n",
      "    node_1:\n",
      "      in:\n",
      "        inp1: input_reference\n",
      "        inp2: aoi\n",
      "      out:\n",
      "      - results\n",
      "      run: '#clt'\n",
      "      scatter: inp1\n",
      "      scatterMethod: dotproduct\n",
      "$namespaces:\n",
      "  stac: http://www.me.net/stac/cwl/extension\n",
      "cwlVersion: v1.0\n"
     ]
    }
   ],
   "source": [
    "print(cwl_content)"
   ]
  },
  {
   "cell_type": "code",
   "execution_count": 6,
   "metadata": {},
   "outputs": [],
   "source": [
    "for elem in cwl['$graph']:\n",
    "\n",
    "    if elem['class'] == 'Workflow':\n",
    "        workflow = elem"
   ]
  },
  {
   "cell_type": "code",
   "execution_count": 7,
   "metadata": {},
   "outputs": [],
   "source": [
    "m = hashlib.md5()\n",
    "\n",
    "m.update(cwl_content.encode('utf-8'))\n",
    "\n",
    "identifier = m.hexdigest()\n",
    "    "
   ]
  },
  {
   "cell_type": "code",
   "execution_count": 24,
   "metadata": {},
   "outputs": [
    {
     "data": {
      "text/plain": [
       "'e563cc5596b02a189277de6228a9e2af'"
      ]
     },
     "execution_count": 24,
     "metadata": {},
     "output_type": "execute_result"
    }
   ],
   "source": [
    "identifier"
   ]
  },
  {
   "cell_type": "code",
   "execution_count": 8,
   "metadata": {},
   "outputs": [],
   "source": [
    "template = '''<?xml version=\"1.0\"?>\n",
    "<feed xmlns=\"http://www.w3.org/2005/Atom\">\n",
    "  <entry>\n",
    "    <title type=\"text\"></title>\n",
    "    <summary type=\"html\"></summary>\n",
    "    <date xmlns=\"http://purl.org/dc/elements/1.1/\"></date>\n",
    "    <identifier xmlns=\"http://purl.org/dc/elements/1.1/\"></identifier>\n",
    "  </entry>\n",
    "</feed>'''\n",
    "    "
   ]
  },
  {
   "cell_type": "code",
   "execution_count": 9,
   "metadata": {},
   "outputs": [],
   "source": [
    "atom_template = Atom(etree.fromstring(template))\n",
    "\n",
    "atom_template.set_identifier(identifier)\n",
    "atom_template.set_title_text(workflow['label'])\n",
    "atom_template.set_summary_text(workflow['doc'])\n",
    "\n",
    "atom_template.set_dcdate(datetime.datetime.now().strftime('%Y-%m-%dT%H:%M%SZ'))\n",
    "\n",
    "offering = atom_template.create_offering(code='http://www.opengis.net/eoc/applicationContext/cwl',\n",
    "                                         content=cwl_content)\n",
    "\n",
    "atom_template.add_offering(offering)"
   ]
  },
  {
   "cell_type": "code",
   "execution_count": 20,
   "metadata": {},
   "outputs": [],
   "source": [
    "rm_endpoint = 'https://catalog.terradue.com/eoepca-services/description'"
   ]
  },
  {
   "cell_type": "code",
   "execution_count": 21,
   "metadata": {},
   "outputs": [],
   "source": [
    "username = ''\n",
    "api_key = ''"
   ]
  },
  {
   "cell_type": "code",
   "execution_count": 22,
   "metadata": {},
   "outputs": [
    {
     "name": "stdout",
     "output_type": "stream",
     "text": [
      "404 Not Found\n"
     ]
    }
   ],
   "source": [
    "r = post_atom(atom_template,\n",
    "              rm_endpoint,\n",
    "              username, \n",
    "              api_key)\n",
    "\n",
    "print(r.status_code, r.reason)"
   ]
  },
  {
   "cell_type": "code",
   "execution_count": 23,
   "metadata": {},
   "outputs": [],
   "source": [
    "\n",
    "with open('vegetation-index.xml', 'w') as f:\n",
    "    \n",
    "    f.write(b'<?xml version=\"1.0\" encoding=\"UTF-8\"?>\\n'.decode('utf-8'))\n",
    "    f.write(etree.tostring(atom_template.root, \n",
    "                                        pretty_print=True).decode('utf-8'))"
   ]
  },
  {
   "cell_type": "code",
   "execution_count": null,
   "metadata": {},
   "outputs": [],
   "source": []
  }
 ],
 "metadata": {
  "kernelspec": {
   "display_name": "EOPECA-demo",
   "language": "python",
   "name": "eopeca-demo"
  },
  "language_info": {
   "codemirror_mode": {
    "name": "ipython",
    "version": 3
   },
   "file_extension": ".py",
   "mimetype": "text/x-python",
   "name": "python",
   "nbconvert_exporter": "python",
   "pygments_lexer": "ipython3",
   "version": "3.9.0"
  }
 },
 "nbformat": 4,
 "nbformat_minor": 4
}
