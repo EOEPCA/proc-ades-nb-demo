{
 "cells": [
  {
   "cell_type": "markdown",
   "metadata": {},
   "source": [
    "## Application Package publication on Resource Manager\n",
    "\n",
    "Register a CWL application package in a resource manager catalog"
   ]
  },
  {
   "cell_type": "code",
   "execution_count": null,
   "metadata": {},
   "outputs": [],
   "source": [
    "import sys\n",
    "import yaml\n",
    "import os\n",
    "from helpers import Atom\n",
    "from lxml import etree\n",
    "import datetime\n",
    "import hashlib\n",
    "import getpass\n",
    "import requests\n",
    "from requests.auth import HTTPBasicAuth"
   ]
  },
  {
   "cell_type": "code",
   "execution_count": null,
   "metadata": {},
   "outputs": [],
   "source": [
    "%load_ext autoreload\n",
    "%autoreload 2"
   ]
  },
  {
   "cell_type": "markdown",
   "metadata": {},
   "source": [
    "Load the application package CWL:"
   ]
  },
  {
   "cell_type": "code",
   "execution_count": null,
   "metadata": {},
   "outputs": [],
   "source": [
    "application_package = 'vegetation-index.cwl'"
   ]
  },
  {
   "cell_type": "code",
   "execution_count": null,
   "metadata": {},
   "outputs": [],
   "source": [
    "with open(application_package, 'r') as stream:\n",
    "    \n",
    "    try:\n",
    "        cwl = yaml.safe_load(stream)\n",
    "\n",
    "        stream.seek(0)\n",
    "\n",
    "        cwl_content = ''.join(stream.readlines())\n",
    "    except yaml.YAMLError as exc:\n",
    "        raise"
   ]
  },
  {
   "cell_type": "code",
   "execution_count": null,
   "metadata": {},
   "outputs": [],
   "source": [
    "print(cwl_content)"
   ]
  },
  {
   "cell_type": "markdown",
   "metadata": {},
   "source": [
    "Look for the CWL Workflow class, the atom file will use the label and doc values"
   ]
  },
  {
   "cell_type": "code",
   "execution_count": null,
   "metadata": {},
   "outputs": [],
   "source": [
    "for elem in cwl['$graph']:\n",
    "\n",
    "    if elem['class'] == 'Workflow':\n",
    "        workflow = elem"
   ]
  },
  {
   "cell_type": "markdown",
   "metadata": {},
   "source": [
    "Create a unique identifier for the application package atom:"
   ]
  },
  {
   "cell_type": "code",
   "execution_count": null,
   "metadata": {},
   "outputs": [],
   "source": [
    "m = hashlib.md5()\n",
    "\n",
    "m.update(cwl_content.encode('utf-8'))\n",
    "\n",
    "identifier = m.hexdigest()\n",
    "    "
   ]
  },
  {
   "cell_type": "code",
   "execution_count": null,
   "metadata": {},
   "outputs": [],
   "source": [
    "identifier"
   ]
  },
  {
   "cell_type": "code",
   "execution_count": null,
   "metadata": {},
   "outputs": [],
   "source": [
    "template = '''<?xml version=\"1.0\"?>\n",
    "<feed xmlns=\"http://www.w3.org/2005/Atom\">\n",
    "  <entry>\n",
    "    <title type=\"text\"></title>\n",
    "    <summary type=\"html\"></summary>\n",
    "    <date xmlns=\"http://purl.org/dc/elements/1.1/\"></date>\n",
    "    <identifier xmlns=\"http://purl.org/dc/elements/1.1/\"></identifier>\n",
    "  </entry>\n",
    "</feed>'''\n",
    "    "
   ]
  },
  {
   "cell_type": "code",
   "execution_count": null,
   "metadata": {},
   "outputs": [],
   "source": [
    "atom_template = Atom(etree.fromstring(template))\n",
    "\n",
    "atom_template.set_identifier(identifier)\n",
    "atom_template.set_title_text(workflow['label'])\n",
    "atom_template.set_summary_text(workflow['doc'])\n",
    "\n",
    "atom_template.set_dcdate(datetime.datetime.now().strftime('%Y-%m-%dT%H:%M:%SZ'))\n",
    "\n",
    "offering = atom_template.create_offering(code='http://www.opengis.net/eoc/applicationContext/cwl',\n",
    "                                         content=cwl_content)\n",
    "\n",
    "atom_template.add_offering(offering)"
   ]
  },
  {
   "cell_type": "markdown",
   "metadata": {},
   "source": [
    "Store the atom document with the application package in the resource manager"
   ]
  },
  {
   "cell_type": "code",
   "execution_count": null,
   "metadata": {},
   "outputs": [],
   "source": [
    "rm_endpoint = 'https://catalog.terradue.com/eoepca-services'"
   ]
  },
  {
   "cell_type": "code",
   "execution_count": null,
   "metadata": {},
   "outputs": [],
   "source": [
    "username = 'rconway'"
   ]
  },
  {
   "cell_type": "code",
   "execution_count": null,
   "metadata": {},
   "outputs": [],
   "source": [
    "#api_key = getpass.getpass('API key:')\n",
    "api_key = \"AKCp8hyEYSMqk4swUndyCDVZW7g3XFYfvE2xVFQEdYagJLqVJY1qKbXcmStLoUFEyEhL5tKcY\""
   ]
  },
  {
   "cell_type": "code",
   "execution_count": null,
   "metadata": {},
   "outputs": [],
   "source": [
    "headers = {'Content-Type': 'application/atom+xml',\n",
    "           'Accept': 'application/json'}\n",
    "\n",
    "auth = HTTPBasicAuth(username, api_key)"
   ]
  },
  {
   "cell_type": "code",
   "execution_count": null,
   "metadata": {},
   "outputs": [],
   "source": [
    "r = requests.post(rm_endpoint,\n",
    "                  data=atom_template.to_string().decode('utf-8'),\n",
    "                  headers=headers,\n",
    "                  auth=auth)\n",
    "\n",
    "print(r.status_code, r.reason)"
   ]
  },
  {
   "cell_type": "markdown",
   "metadata": {},
   "source": [
    "Save it for future reference:"
   ]
  },
  {
   "cell_type": "code",
   "execution_count": null,
   "metadata": {},
   "outputs": [],
   "source": [
    "with open('vegetation-index.xml', 'w') as f:\n",
    "    \n",
    "    f.write(b'<?xml version=\"1.0\" encoding=\"UTF-8\"?>\\n'.decode('utf-8'))\n",
    "    f.write(etree.tostring(atom_template.root, \n",
    "                           pretty_print=True).decode('utf-8'))"
   ]
  }
 ],
 "metadata": {
  "kernelspec": {
   "display_name": "EOPECA-demo",
   "language": "python",
   "name": "eopeca-demo"
  },
  "language_info": {
   "codemirror_mode": {
    "name": "ipython",
    "version": 3
   },
   "file_extension": ".py",
   "mimetype": "text/x-python",
   "name": "python",
   "nbconvert_exporter": "python",
   "pygments_lexer": "ipython3",
   "version": "3.9.0"
  }
 },
 "nbformat": 4,
 "nbformat_minor": 4
}
