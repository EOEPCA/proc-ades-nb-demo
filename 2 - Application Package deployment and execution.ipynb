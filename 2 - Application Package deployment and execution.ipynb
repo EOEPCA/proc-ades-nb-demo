{
 "cells": [
  {
   "cell_type": "markdown",
   "metadata": {},
   "source": [
    "## ADES demonstration - OGC API Processes \n",
    "\n",
    "Deploy a CWL application package as a WPS processing service and submit an execution request"
   ]
  },
  {
   "cell_type": "code",
   "execution_count": null,
   "metadata": {},
   "outputs": [],
   "source": [
    "import requests\n",
    "import os\n",
    "import getpass\n",
    "import json\n",
    "import yaml\n",
    "from time import sleep"
   ]
  },
  {
   "cell_type": "markdown",
   "metadata": {},
   "source": [
    "## Discover a registered process"
   ]
  },
  {
   "cell_type": "code",
   "execution_count": null,
   "metadata": {},
   "outputs": [],
   "source": [
    "rm_endpoint = 'https://catalog.terradue.com/eoepca-services/search'"
   ]
  },
  {
   "cell_type": "markdown",
   "metadata": {},
   "source": [
    "This is the identifier from the previous demonstration notebook:"
   ]
  },
  {
   "cell_type": "code",
   "execution_count": null,
   "metadata": {},
   "outputs": [],
   "source": [
    "application_package_id = 'd5d2d9af95cade45f7602d36ff07aa22'"
   ]
  },
  {
   "cell_type": "markdown",
   "metadata": {},
   "source": [
    "Query the resource manager catalog to discover the application package:"
   ]
  },
  {
   "cell_type": "code",
   "execution_count": null,
   "metadata": {},
   "outputs": [],
   "source": [
    "payload = {'uid': application_package_id,\n",
    "           'format': 'json'}\n",
    "\n",
    "r = requests.get(rm_endpoint, \n",
    "                 params=payload)\n",
    "                 \n",
    "print(r.status_code, r.reason)"
   ]
  },
  {
   "cell_type": "code",
   "execution_count": null,
   "metadata": {},
   "outputs": [],
   "source": [
    "response = r.json()\n",
    "\n",
    "response"
   ]
  },
  {
   "cell_type": "markdown",
   "metadata": {},
   "source": [
    "Here's the Application Package CWL:"
   ]
  },
  {
   "cell_type": "code",
   "execution_count": null,
   "metadata": {},
   "outputs": [],
   "source": [
    "application_package = yaml.safe_load(response['features'][0]['properties']['offering']['content']['#text'])"
   ]
  },
  {
   "cell_type": "code",
   "execution_count": null,
   "metadata": {},
   "outputs": [],
   "source": [
    "application_package"
   ]
  },
  {
   "cell_type": "markdown",
   "metadata": {},
   "source": [
    "## Deploy the process"
   ]
  },
  {
   "cell_type": "code",
   "execution_count": null,
   "metadata": {},
   "outputs": [],
   "source": [
    "endpoint = 'http://gavi.terradue.com:8888'\n",
    "workspace = '/terradue'\n",
    "print(endpoint)"
   ]
  },
  {
   "cell_type": "code",
   "execution_count": null,
   "metadata": {},
   "outputs": [],
   "source": [
    "deploy_headers = {'Content-Type': 'application/json',\n",
    "                  'Accept': 'application/json', \n",
    "                  'Prefer': 'respond-async'} "
   ]
  },
  {
   "cell_type": "code",
   "execution_count": null,
   "metadata": {},
   "outputs": [],
   "source": [
    "deploy_payload = {'inputs': [{'id': 'applicationPackage',\n",
    "                              'input': {'format': {'mimeType': 'application/xml'},\n",
    "                                        'value': {'href': f'https://catalog.terradue.com/eoepca-services/search?uid={application_package_id}'}}}],\n",
    "                  'outputs': [{'format': {'mimeType': 'string',\n",
    "                                          'schema': 'string',\n",
    "                                          'encoding': 'string'},\n",
    "                               'id': 'deployResult',\n",
    "                               'transmissionMode': 'value'}],\n",
    "                  'mode': 'auto',\n",
    "                  'response': 'raw'}\n",
    "print(endpoint)"
   ]
  },
  {
   "cell_type": "code",
   "execution_count": null,
   "metadata": {},
   "outputs": [],
   "source": [
    "r = requests.post(f'{endpoint}/{workspace}/wps3/processes',\n",
    "                  json=deploy_payload,\n",
    "                  headers=deploy_headers)\n",
    "\n",
    "print(f'{endpoint}/{endpoint}/{workspace}/wps3/processes')\n",
    "\n",
    "print(r.status_code, r.reason)"
   ]
  },
  {
   "cell_type": "markdown",
   "metadata": {},
   "source": [
    "## retrieve GetProcess/processes"
   ]
  },
  {
   "cell_type": "code",
   "execution_count": null,
   "metadata": {},
   "outputs": [],
   "source": [
    "headers = {'Content-Type': 'application/json',\n",
    "           'Accept': 'application/json'}"
   ]
  },
  {
   "cell_type": "code",
   "execution_count": null,
   "metadata": {},
   "outputs": [],
   "source": [
    "r = requests.get(f'{endpoint}/{workspace}/wps3/processes',\n",
    "                 headers=headers)\n",
    "\n",
    "print(r.status_code, r.reason)"
   ]
  },
  {
   "cell_type": "code",
   "execution_count": null,
   "metadata": {},
   "outputs": [],
   "source": [
    "response = r.json()\n",
    "\n",
    "response"
   ]
  },
  {
   "cell_type": "code",
   "execution_count": null,
   "metadata": {},
   "outputs": [],
   "source": [
    "for process in response:\n",
    "    \n",
    "    print('Process id: {}\\n{} - {}\\n'.format(process['id'], \n",
    "                                             process['title'], \n",
    "                                             process['abstract']))"
   ]
  },
  {
   "cell_type": "markdown",
   "metadata": {},
   "source": [
    "## Describe  vegetation-index2 /processes/{id}"
   ]
  },
  {
   "cell_type": "code",
   "execution_count": null,
   "metadata": {},
   "outputs": [],
   "source": [
    "process_id = 'vegetation-index2'"
   ]
  },
  {
   "cell_type": "code",
   "execution_count": null,
   "metadata": {},
   "outputs": [],
   "source": [
    "r = requests.get(f'{endpoint}/{workspace}/wps3/processes/{process_id}',\n",
    "                 headers=headers)\n",
    "\n",
    "print(r.status_code, r.reason)"
   ]
  },
  {
   "cell_type": "code",
   "execution_count": null,
   "metadata": {},
   "outputs": [],
   "source": [
    "response = r.json()\n",
    "\n",
    "response"
   ]
  },
  {
   "cell_type": "markdown",
   "metadata": {},
   "source": [
    "List the inputs"
   ]
  },
  {
   "cell_type": "code",
   "execution_count": null,
   "metadata": {},
   "outputs": [],
   "source": [
    "inputs = response['process']['inputs']"
   ]
  },
  {
   "cell_type": "code",
   "execution_count": null,
   "metadata": {},
   "outputs": [],
   "source": [
    "inputs"
   ]
  },
  {
   "cell_type": "markdown",
   "metadata": {},
   "source": [
    "## Execute - /processes/{id}/jobs"
   ]
  },
  {
   "cell_type": "code",
   "execution_count": null,
   "metadata": {},
   "outputs": [],
   "source": [
    "execute_request = {'inputs': [{'id': 'input_reference',\n",
    "                               'input': {'dataType': {'name': 'string'},\n",
    "                                         'value': 'https://catalog.terradue.com/sentinel2/search?uid=S2A_MSIL2A_20191216T004701_N0213_R102_T53HPA_20191216T024808'}},\n",
    "                              {'id': 'aoi',\n",
    "                               'input': {'dataType': {'name': 'string'},\n",
    "                                         'value': 'POLYGON((136.112726861895 -36.227897298303,137.333826362695 -36.2103069464338,137.305145407058 -35.2211228310596,136.099040812374 -35.2380875358202,136.112726861895 -36.227897298303))'}}],\n",
    "                   'outputs': [{'format': {'mimeType': 'string',\n",
    "                                           'schema': 'string',\n",
    "                                           'encoding': 'string'},\n",
    "                                'id': 'wf_outputs',\n",
    "                                'transmissionMode': 'value'}],\n",
    "                   'mode': 'async',\n",
    "                   'response': 'raw'}"
   ]
  },
  {
   "cell_type": "code",
   "execution_count": null,
   "metadata": {},
   "outputs": [],
   "source": [
    "execution_headers = {'Content-Type': 'application/json',\n",
    "                       'Accept': 'application/json', \n",
    "                       'Prefer': 'respond-async'}"
   ]
  },
  {
   "cell_type": "code",
   "execution_count": null,
   "metadata": {},
   "outputs": [],
   "source": [
    "process_id = 'vegetation-index2'"
   ]
  },
  {
   "cell_type": "code",
   "execution_count": null,
   "metadata": {},
   "outputs": [],
   "source": [
    "r = requests.post(f'{endpoint}/{workspace}/wps3/processes/{process_id}/jobs',\n",
    "                  json=execute_request,\n",
    "                  headers=execution_headers)\n",
    "\n",
    "print(r.status_code, r.reason)"
   ]
  },
  {
   "cell_type": "code",
   "execution_count": null,
   "metadata": {},
   "outputs": [],
   "source": [
    "job_location = r.headers['Location']\n",
    "\n",
    "job_location"
   ]
  },
  {
   "cell_type": "markdown",
   "metadata": {},
   "source": [
    "## Poll /processes/{id}/jobs/{job_id}"
   ]
  },
  {
   "cell_type": "code",
   "execution_count": null,
   "metadata": {},
   "outputs": [],
   "source": [
    "r = requests.get(f'{endpoint}{job_location}',\n",
    "                 headers=headers)\n",
    "\n",
    "print(f'{endpoint}{job_location}')\n",
    "\n",
    "print(r.status_code, r.reason)"
   ]
  },
  {
   "cell_type": "code",
   "execution_count": null,
   "metadata": {},
   "outputs": [],
   "source": [
    "response = r.json()\n",
    "\n",
    "response"
   ]
  },
  {
   "cell_type": "code",
   "execution_count": null,
   "metadata": {},
   "outputs": [],
   "source": [
    "\n",
    "while response['status'] == 'running':\n",
    "\n",
    "    r = requests.get(f'{endpoint}{job_location}',\n",
    "                 headers=headers)\n",
    "    \n",
    "    response = r.json()\n",
    "    \n",
    "    if response['status'] == 'failed': \n",
    "    \n",
    "        print(response)\n",
    "        \n",
    "        break\n",
    "        \n",
    "    if response['status'] == 'successful':  \n",
    "\n",
    "        print(response['links'][0]['href'])\n",
    "        \n",
    "        break\n",
    "    \n",
    "    else:\n",
    "        \n",
    "        print('Polling - {}'.format(response['status']))\n",
    "        \n",
    "        sleep(30)\n",
    "        "
   ]
  },
  {
   "cell_type": "markdown",
   "metadata": {},
   "source": [
    "## Results - /processes/{id}/jobs/{job_id}/result"
   ]
  },
  {
   "cell_type": "code",
   "execution_count": null,
   "metadata": {},
   "outputs": [],
   "source": [
    "response"
   ]
  },
  {
   "cell_type": "code",
   "execution_count": null,
   "metadata": {},
   "outputs": [],
   "source": [
    "r = requests.get(f'{endpoint}/{job_location}/result',\n",
    "                 headers=headers)\n",
    "\n",
    "print(r.status_code, r.reason)"
   ]
  },
  {
   "cell_type": "code",
   "execution_count": null,
   "metadata": {},
   "outputs": [],
   "source": [
    "response = r.json()\n",
    "\n",
    "response"
   ]
  },
  {
   "cell_type": "code",
   "execution_count": null,
   "metadata": {},
   "outputs": [],
   "source": [
    "results = json.loads(response['outputs'][0]['value']['inlineValue'])\n",
    "\n",
    "results"
   ]
  },
  {
   "cell_type": "markdown",
   "metadata": {},
   "source": [
    "## Inspect the results\n",
    "\n",
    "Use the STAC catalog endpoint in the \"Exploiting the result.ipynb\" Notebook "
   ]
  },
  {
   "cell_type": "code",
   "execution_count": null,
   "metadata": {},
   "outputs": [],
   "source": [
    "stac_catalog_endpoint = results['stac:catalog']['href']\n",
    "\n",
    "stac_catalog_endpoint"
   ]
  },
  {
   "cell_type": "code",
   "execution_count": null,
   "metadata": {},
   "outputs": [],
   "source": []
  }
 ],
 "metadata": {
  "kernelspec": {
   "display_name": "EOPECA-demo",
   "language": "python",
   "name": "eopeca-demo"
  },
  "language_info": {
   "codemirror_mode": {
    "name": "ipython",
    "version": 3
   },
   "file_extension": ".py",
   "mimetype": "text/x-python",
   "name": "python",
   "nbconvert_exporter": "python",
   "pygments_lexer": "ipython3",
   "version": "3.9.0"
  }
 },
 "nbformat": 4,
 "nbformat_minor": 4
}
