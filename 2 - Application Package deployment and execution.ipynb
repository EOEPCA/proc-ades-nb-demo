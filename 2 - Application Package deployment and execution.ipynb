{
 "cells": [
  {
   "cell_type": "markdown",
   "metadata": {},
   "source": [
    "## ADES demonstration - OGC API Processes \n",
    "\n",
    "Deploy a CWL application package as a WPS processing service and submit an execution request"
   ]
  },
  {
   "cell_type": "code",
   "execution_count": 1,
   "metadata": {},
   "outputs": [],
   "source": [
    "import requests\n",
    "import os\n",
    "import getpass\n",
    "import json\n",
    "import yaml\n",
    "from time import sleep"
   ]
  },
  {
   "cell_type": "markdown",
   "metadata": {},
   "source": [
    "## Discover a registered process"
   ]
  },
  {
   "cell_type": "code",
   "execution_count": 29,
   "metadata": {},
   "outputs": [],
   "source": [
    "rm_endpoint = 'https://catalog.terradue.com/eoepca-services/search'"
   ]
  },
  {
   "cell_type": "markdown",
   "metadata": {},
   "source": [
    "This is the identifier from the previous demonstration notebook:"
   ]
  },
  {
   "cell_type": "code",
   "execution_count": null,
   "metadata": {},
   "outputs": [],
   "source": [
    "application_package_id = 'd5d2d9af95cade45f7602d36ff07aa22'"
   ]
  },
  {
   "cell_type": "markdown",
   "metadata": {},
   "source": [
    "Query the resource manager catalog to discover the application package:"
   ]
  },
  {
   "cell_type": "code",
   "execution_count": 51,
   "metadata": {},
   "outputs": [
    {
     "name": "stdout",
     "output_type": "stream",
     "text": [
      "200 OK\n"
     ]
    }
   ],
   "source": [
    "payload = {'uid': application_package_id,\n",
    "           'format': 'json'}\n",
    "\n",
    "r = requests.get(rm_endpoint, \n",
    "                 params=payload)\n",
    "                 \n",
    "print(r.status_code, r.reason)"
   ]
  },
  {
   "cell_type": "code",
   "execution_count": 52,
   "metadata": {},
   "outputs": [
    {
     "data": {
      "text/plain": [
       "{'id': 'https://catalog.terradue.com:443/eoepca-services/search?uid=d5d2d9af95cade45f7602d36ff07aa22&format=json',\n",
       " 'properties': {'links': [{'@href': 'https://catalog.terradue.com/eoepca-services/search?uid=d5d2d9af95cade45f7602d36ff07aa22&format=json',\n",
       "    '@rel': 'self',\n",
       "    '@title': 'Reference link',\n",
       "    '@type': 'application/json'},\n",
       "   {'@href': 'https://catalog.terradue.com/eoepca-services/description',\n",
       "    '@rel': 'search',\n",
       "    '@title': 'OpenSearch Description link',\n",
       "    '@type': 'application/opensearchdescription+xml'}],\n",
       "  'updated': '2020-10-21T16:32:30Z',\n",
       "  'title': 'Result for OpenSearch query over type * in index eoepca-services',\n",
       "  'debugRequest': None,\n",
       "  'debugResponse': None,\n",
       "  'totalResults': '1',\n",
       "  'startIndex': '1',\n",
       "  'itemsPerPage': '20',\n",
       "  'Query': {'@role': 'request',\n",
       "   '@geo:uid': 'd5d2d9af95cade45f7602d36ff07aa22'}},\n",
       " 'features': [{'id': 'https://catalog.terradue.com:443/eoepca-services/search?format=json&uid=d5d2d9af95cade45f7602d36ff07aa22',\n",
       "   'properties': {'links': [{'@href': 'https://catalog.terradue.com/eoepca-services/search?format=json&uid=d5d2d9af95cade45f7602d36ff07aa22',\n",
       "      '@rel': 'self',\n",
       "      '@title': 'Reference link',\n",
       "      '@type': 'application/json'}],\n",
       "    'updated': '2020-10-21T16:32:23Z',\n",
       "    'published': '2020-10-21T16:32:30Z',\n",
       "    'title': 'Vegetation index',\n",
       "    'summary': 'Vegetation index processor',\n",
       "    'content': {'type': 'html', 'value': 'Vegetation index processor'},\n",
       "    'offering': {'@code': 'http://www.opengis.net/eoc/applicationContext/cwl',\n",
       "     'content': {'@type': 'application/cwl',\n",
       "      '#text': \"$graph:\\n- baseCommand: vegetation-index\\n  class: CommandLineTool\\n  hints:\\n    DockerRequirement:\\n      dockerPull: terradue/eoepca-vegetation-index:0.1\\n  id: clt\\n  inputs:\\n    inp1:\\n      inputBinding:\\n        position: 1\\n        prefix: --input-reference\\n      type: Directory\\n    inp2:\\n      inputBinding:\\n        position: 2\\n        prefix: --aoi\\n      type: string\\n  outputs:\\n    results:\\n      outputBinding:\\n        glob: .\\n      type: Any\\n  requirements:\\n    EnvVarRequirement:\\n      envDef:\\n        PATH: /opt/anaconda/envs/env_vi/bin:/opt/anaconda/envs/env_vi/bin:/opt/anaconda/envs/env_default/bin:/opt/anaconda/bin:/usr/local/sbin:/usr/local/bin:/usr/sbin:/usr/bin:/sbin:/bin\\n        PREFIX: /opt/anaconda/envs/env_vi\\n    ResourceRequirement: {}\\n- class: Workflow\\n  doc: Vegetation index processor\\n  id: vegetation-index2\\n  inputs:\\n    aoi:\\n      doc: Area of interest in WKT\\n      label: Area of interest\\n      type: string\\n    input_reference:\\n      doc: EO product for vegetation index\\n      label: EO product for vegetation index\\n      stac:catalog: catalog.json\\n      stac:collection: source\\n      type: Directory[]\\n  label: Vegetation index\\n  outputs:\\n  - id: wf_outputs\\n    outputSource:\\n    - node_1/results\\n    type:\\n      items: Directory\\n      type: array\\n  requirements:\\n  - class: ScatterFeatureRequirement\\n  steps:\\n    node_1:\\n      in:\\n        inp1: input_reference\\n        inp2: aoi\\n      out:\\n      - results\\n      run: '#clt'\\n      scatter: inp1\\n      scatterMethod: dotproduct\\n$namespaces:\\n  stac: http://www.me.net/stac/cwl/extension\\ncwlVersion: v1.0\"}},\n",
       "    'date': '2020-10-21T16:32:10Z',\n",
       "    'identifier': 'd5d2d9af95cade45f7602d36ff07aa22'},\n",
       "   'type': 'Feature'}],\n",
       " 'type': 'FeatureCollection'}"
      ]
     },
     "execution_count": 52,
     "metadata": {},
     "output_type": "execute_result"
    }
   ],
   "source": [
    "response = r.json()\n",
    "\n",
    "response"
   ]
  },
  {
   "cell_type": "markdown",
   "metadata": {},
   "source": [
    "Here's the Application Package CWL:"
   ]
  },
  {
   "cell_type": "code",
   "execution_count": 53,
   "metadata": {},
   "outputs": [],
   "source": [
    "application_package = yaml.safe_load(response['features'][0]['properties']['offering']['content']['#text'])"
   ]
  },
  {
   "cell_type": "code",
   "execution_count": 54,
   "metadata": {},
   "outputs": [
    {
     "data": {
      "text/plain": [
       "{'$graph': [{'baseCommand': 'vegetation-index',\n",
       "   'class': 'CommandLineTool',\n",
       "   'hints': {'DockerRequirement': {'dockerPull': 'terradue/eoepca-vegetation-index:0.1'}},\n",
       "   'id': 'clt',\n",
       "   'inputs': {'inp1': {'inputBinding': {'position': 1,\n",
       "      'prefix': '--input-reference'},\n",
       "     'type': 'Directory'},\n",
       "    'inp2': {'inputBinding': {'position': 2, 'prefix': '--aoi'},\n",
       "     'type': 'string'}},\n",
       "   'outputs': {'results': {'outputBinding': {'glob': '.'}, 'type': 'Any'}},\n",
       "   'requirements': {'EnvVarRequirement': {'envDef': {'PATH': '/opt/anaconda/envs/env_vi/bin:/opt/anaconda/envs/env_vi/bin:/opt/anaconda/envs/env_default/bin:/opt/anaconda/bin:/usr/local/sbin:/usr/local/bin:/usr/sbin:/usr/bin:/sbin:/bin',\n",
       "      'PREFIX': '/opt/anaconda/envs/env_vi'}},\n",
       "    'ResourceRequirement': {}}},\n",
       "  {'class': 'Workflow',\n",
       "   'doc': 'Vegetation index processor',\n",
       "   'id': 'vegetation-index2',\n",
       "   'inputs': {'aoi': {'doc': 'Area of interest in WKT',\n",
       "     'label': 'Area of interest',\n",
       "     'type': 'string'},\n",
       "    'input_reference': {'doc': 'EO product for vegetation index',\n",
       "     'label': 'EO product for vegetation index',\n",
       "     'stac:catalog': 'catalog.json',\n",
       "     'stac:collection': 'source',\n",
       "     'type': 'Directory[]'}},\n",
       "   'label': 'Vegetation index',\n",
       "   'outputs': [{'id': 'wf_outputs',\n",
       "     'outputSource': ['node_1/results'],\n",
       "     'type': {'items': 'Directory', 'type': 'array'}}],\n",
       "   'requirements': [{'class': 'ScatterFeatureRequirement'}],\n",
       "   'steps': {'node_1': {'in': {'inp1': 'input_reference', 'inp2': 'aoi'},\n",
       "     'out': ['results'],\n",
       "     'run': '#clt',\n",
       "     'scatter': 'inp1',\n",
       "     'scatterMethod': 'dotproduct'}}}],\n",
       " '$namespaces': {'stac': 'http://www.me.net/stac/cwl/extension'},\n",
       " 'cwlVersion': 'v1.0'}"
      ]
     },
     "execution_count": 54,
     "metadata": {},
     "output_type": "execute_result"
    }
   ],
   "source": [
    "application_package"
   ]
  },
  {
   "cell_type": "markdown",
   "metadata": {},
   "source": [
    "## Deploy the process"
   ]
  },
  {
   "cell_type": "code",
   "execution_count": 55,
   "metadata": {},
   "outputs": [],
   "source": [
    "endpoint = 'http://wps-eoepca-dev.terradue.com' "
   ]
  },
  {
   "cell_type": "code",
   "execution_count": 8,
   "metadata": {},
   "outputs": [
    {
     "name": "stdin",
     "output_type": "stream",
     "text": [
      "Token: ···························································································································································································································································································································································································································································································································································································································································································································································································································································································································\n"
     ]
    }
   ],
   "source": [
    "token = getpass.getpass('Token:')"
   ]
  },
  {
   "cell_type": "code",
   "execution_count": 56,
   "metadata": {},
   "outputs": [],
   "source": [
    "deploy_headers = {'Authorization': f'Bearer {token}',\n",
    "                  'Content-Type': 'application/json',\n",
    "                  'Accept': 'application/json', \n",
    "                  'Prefer': 'respond-async'} "
   ]
  },
  {
   "cell_type": "code",
   "execution_count": 57,
   "metadata": {},
   "outputs": [],
   "source": [
    "deploy_payload = {'inputs': [{'id': 'applicationPackage',\n",
    "                              'input': {'format': {'mimeType': 'application/xml'},\n",
    "                                        'value': {'href': f'https://catalog.terradue.com/eoepca-services/search?uid={application_package_id}'}}}],\n",
    "                  'outputs': [{'format': {'mimeType': 'string',\n",
    "                                          'schema': 'string',\n",
    "                                          'encoding': 'string'},\n",
    "                               'id': 'deployResult',\n",
    "                               'transmissionMode': 'value'}],\n",
    "                  'mode': 'auto',\n",
    "                  'response': 'raw'}"
   ]
  },
  {
   "cell_type": "code",
   "execution_count": 58,
   "metadata": {},
   "outputs": [
    {
     "name": "stdout",
     "output_type": "stream",
     "text": [
      "201 Created\n"
     ]
    }
   ],
   "source": [
    "r = requests.post(f'{endpoint}/wps3/processes',\n",
    "                  json=deploy_payload,\n",
    "                  headers=deploy_headers)\n",
    "\n",
    "print(r.status_code, r.reason)"
   ]
  },
  {
   "cell_type": "markdown",
   "metadata": {},
   "source": [
    "## /processes"
   ]
  },
  {
   "cell_type": "code",
   "execution_count": 59,
   "metadata": {},
   "outputs": [],
   "source": [
    "headers = {'Authorization': f'Bearer {token}',\n",
    "           'Content-Type': 'application/json',\n",
    "           'Accept': 'application/json'}"
   ]
  },
  {
   "cell_type": "code",
   "execution_count": 60,
   "metadata": {},
   "outputs": [
    {
     "name": "stdout",
     "output_type": "stream",
     "text": [
      "200 OK\n"
     ]
    }
   ],
   "source": [
    "r = requests.get(f'{endpoint}/wps3/processes',\n",
    "                 headers=headers)\n",
    "\n",
    "print(r.status_code, r.reason)"
   ]
  },
  {
   "cell_type": "code",
   "execution_count": 61,
   "metadata": {},
   "outputs": [
    {
     "data": {
      "text/plain": [
       "{'processes': [{'id': 'eoepcaadesundeployprocess',\n",
       "   'title': 'Eoepca Deploy Process',\n",
       "   'abstract': 'This method will undeploy an application encapsulated within a Docker container as a process accessible through the WPS interface.',\n",
       "   'version': '1.0.0',\n",
       "   'jobControlOptions': ['sync-execute', 'async-execute', 'dismiss'],\n",
       "   'outputTransmission': ['value', 'reference'],\n",
       "   'links': [{'rel': 'canonical',\n",
       "     'type': 'application/json',\n",
       "     'title': 'Process Description',\n",
       "     'href': '/watchjob/processes/eoepcaadesundeployprocess/'}]},\n",
       "  {'id': 'eoepcaadesdeployprocess',\n",
       "   'title': 'Eoepca Deploy Process',\n",
       "   'abstract': 'This method will deploy an application encapsulated within a Docker container as a process accessible through the WPS interface.',\n",
       "   'version': '1.0.0',\n",
       "   'jobControlOptions': ['sync-execute', 'async-execute', 'dismiss'],\n",
       "   'outputTransmission': ['value', 'reference'],\n",
       "   'links': [{'rel': 'canonical',\n",
       "     'type': 'application/json',\n",
       "     'title': 'Process Description',\n",
       "     'href': '/watchjob/processes/eoepcaadesdeployprocess/'}]},\n",
       "  {'id': 'GetStatus',\n",
       "   'title': 'Produce an updated ExecuteResponse document. ',\n",
       "   'abstract': 'Create an ExecuteResponse document from a sid (Service ID), it will use the niternal ZOO Kernel mechanisms to access the current status from a running Service and update the percentCompleted from the original backup file used by the ZOO Kernel when running a Service in background. ',\n",
       "   'version': '1.0.0',\n",
       "   'jobControlOptions': ['sync-execute', 'async-execute', 'dismiss'],\n",
       "   'outputTransmission': ['value', 'reference'],\n",
       "   'links': [{'rel': 'canonical',\n",
       "     'type': 'application/json',\n",
       "     'title': 'Process Description',\n",
       "     'href': '/watchjob/processes/GetStatus/'}]},\n",
       "  {'id': 'vegetation_index_',\n",
       "   'title': 'Vegetation index',\n",
       "   'abstract': 'Vegetation index processor',\n",
       "   'jobControlOptions': ['sync-execute', 'async-execute', 'dismiss'],\n",
       "   'outputTransmission': ['value', 'reference'],\n",
       "   'links': [{'rel': 'canonical',\n",
       "     'type': 'application/json',\n",
       "     'title': 'Process Description',\n",
       "     'href': '/watchjob/processes/vegetation_index_/'}]},\n",
       "  {'id': 'vegetation_index2_',\n",
       "   'title': 'Vegetation index',\n",
       "   'abstract': 'Vegetation index processor',\n",
       "   'jobControlOptions': ['sync-execute', 'async-execute', 'dismiss'],\n",
       "   'outputTransmission': ['value', 'reference'],\n",
       "   'links': [{'rel': 'canonical',\n",
       "     'type': 'application/json',\n",
       "     'title': 'Process Description',\n",
       "     'href': '/watchjob/processes/vegetation_index2_/'}]}]}"
      ]
     },
     "execution_count": 61,
     "metadata": {},
     "output_type": "execute_result"
    }
   ],
   "source": [
    "response = r.json()\n",
    "\n",
    "response"
   ]
  },
  {
   "cell_type": "code",
   "execution_count": 62,
   "metadata": {},
   "outputs": [
    {
     "name": "stdout",
     "output_type": "stream",
     "text": [
      "Process id: eoepcaadesundeployprocess\n",
      "Eoepca Deploy Process - This method will undeploy an application encapsulated within a Docker container as a process accessible through the WPS interface.\n",
      "\n",
      "Process id: eoepcaadesdeployprocess\n",
      "Eoepca Deploy Process - This method will deploy an application encapsulated within a Docker container as a process accessible through the WPS interface.\n",
      "\n",
      "Process id: GetStatus\n",
      "Produce an updated ExecuteResponse document.  - Create an ExecuteResponse document from a sid (Service ID), it will use the niternal ZOO Kernel mechanisms to access the current status from a running Service and update the percentCompleted from the original backup file used by the ZOO Kernel when running a Service in background. \n",
      "\n",
      "Process id: vegetation_index_\n",
      "Vegetation index - Vegetation index processor\n",
      "\n",
      "Process id: vegetation_index2_\n",
      "Vegetation index - Vegetation index processor\n",
      "\n"
     ]
    }
   ],
   "source": [
    "for process in response['processes']:\n",
    "    \n",
    "    print('Process id: {}\\n{} - {}\\n'.format(process['id'], \n",
    "                                             process['title'], \n",
    "                                             process['abstract']))"
   ]
  },
  {
   "cell_type": "markdown",
   "metadata": {},
   "source": [
    "## /processes/{id}"
   ]
  },
  {
   "cell_type": "code",
   "execution_count": 63,
   "metadata": {},
   "outputs": [],
   "source": [
    "process_id = 'vegetation_index2_'"
   ]
  },
  {
   "cell_type": "code",
   "execution_count": 64,
   "metadata": {},
   "outputs": [
    {
     "name": "stdout",
     "output_type": "stream",
     "text": [
      "200 OK\n"
     ]
    }
   ],
   "source": [
    "r = requests.get(f'{endpoint}/wps3/processes/{process_id}',\n",
    "                 headers=headers)\n",
    "\n",
    "print(r.status_code, r.reason)"
   ]
  },
  {
   "cell_type": "code",
   "execution_count": 65,
   "metadata": {},
   "outputs": [
    {
     "data": {
      "text/plain": [
       "{'process': {'id': 'vegetation_index2_',\n",
       "  'title': 'Vegetation index',\n",
       "  'abstract': 'Vegetation index processor',\n",
       "  'jobControlOptions': ['sync-execute', 'async-execute', 'dismiss'],\n",
       "  'outputTransmission': ['value', 'reference'],\n",
       "  'links': [{'rel': 'canonical',\n",
       "    'type': 'application/json',\n",
       "    'title': 'Execute End Point',\n",
       "    'href': '/watchjob/processes/vegetation_index2_/jobs/'}],\n",
       "  'inputs': [{'id': 'aoi',\n",
       "    'title': 'Area of interest',\n",
       "    'abstract': 'Area of interest in WKT',\n",
       "    'minOccurs': '1',\n",
       "    'maxOccurs': '1',\n",
       "    'input': {'literalDataDomains': [{'dataType': {'name': 'string'},\n",
       "       'valueDefinition': {'anyValue': True}}]}},\n",
       "   {'id': 'input_reference',\n",
       "    'title': 'EO product for vegetation index',\n",
       "    'abstract': 'EO product for vegetation index',\n",
       "    'minOccurs': '1',\n",
       "    'maxOccurs': '999',\n",
       "    'input': {'formats': [{'default': True,\n",
       "       'mimeType': 'application/opensearchdescription+xml'},\n",
       "      {'default': False, 'mimeType': 'application/atom+xml'},\n",
       "      {'default': False, 'mimeType': 'application/geo+json; profile=stac'}]}}],\n",
       "  'outputs': [{'id': 'wf_outputs',\n",
       "    'title': 'wf_outputs',\n",
       "    'output': {'formats': [{'default': True,\n",
       "       'mimeType': 'application/json'}]}}]}}"
      ]
     },
     "execution_count": 65,
     "metadata": {},
     "output_type": "execute_result"
    }
   ],
   "source": [
    "response = r.json()\n",
    "\n",
    "response"
   ]
  },
  {
   "cell_type": "markdown",
   "metadata": {},
   "source": [
    "List the inputs"
   ]
  },
  {
   "cell_type": "code",
   "execution_count": 66,
   "metadata": {},
   "outputs": [],
   "source": [
    "inputs = response['process']['inputs']"
   ]
  },
  {
   "cell_type": "code",
   "execution_count": 67,
   "metadata": {},
   "outputs": [
    {
     "data": {
      "text/plain": [
       "[{'id': 'aoi',\n",
       "  'title': 'Area of interest',\n",
       "  'abstract': 'Area of interest in WKT',\n",
       "  'minOccurs': '1',\n",
       "  'maxOccurs': '1',\n",
       "  'input': {'literalDataDomains': [{'dataType': {'name': 'string'},\n",
       "     'valueDefinition': {'anyValue': True}}]}},\n",
       " {'id': 'input_reference',\n",
       "  'title': 'EO product for vegetation index',\n",
       "  'abstract': 'EO product for vegetation index',\n",
       "  'minOccurs': '1',\n",
       "  'maxOccurs': '999',\n",
       "  'input': {'formats': [{'default': True,\n",
       "     'mimeType': 'application/opensearchdescription+xml'},\n",
       "    {'default': False, 'mimeType': 'application/atom+xml'},\n",
       "    {'default': False, 'mimeType': 'application/geo+json; profile=stac'}]}}]"
      ]
     },
     "execution_count": 67,
     "metadata": {},
     "output_type": "execute_result"
    }
   ],
   "source": [
    "inputs"
   ]
  },
  {
   "cell_type": "markdown",
   "metadata": {},
   "source": [
    "## Execute - /processes/{id}/jobs"
   ]
  },
  {
   "cell_type": "code",
   "execution_count": 76,
   "metadata": {},
   "outputs": [],
   "source": [
    "execute_request = {'inputs': [{'id': 'input_reference',\n",
    "                               'input': {'dataType': {'name': 'string'},\n",
    "                                         'value': 'https://catalog.terradue.com/sentinel2/search?uid=S2A_MSIL2A_20191216T004701_N0213_R102_T53HPA_20191216T024808'}},\n",
    "                              {'id': 'aoi',\n",
    "                               'input': {'dataType': {'name': 'string'},\n",
    "                                         'value': 'POLYGON((136.112726861895 -36.227897298303,137.333826362695 -36.2103069464338,137.305145407058 -35.2211228310596,136.099040812374 -35.2380875358202,136.112726861895 -36.227897298303))'}}],\n",
    "                   'outputs': [{'format': {'mimeType': 'string',\n",
    "                                           'schema': 'string',\n",
    "                                           'encoding': 'string'},\n",
    "                                'id': 'wf_output',\n",
    "                                'transmissionMode': 'value'}],\n",
    "                   'mode': 'async',\n",
    "                   'response': 'raw'}"
   ]
  },
  {
   "cell_type": "code",
   "execution_count": 77,
   "metadata": {},
   "outputs": [],
   "source": [
    "execution_headers = {'Authorization': f'Bearer {token}',\n",
    "                       'Content-Type': 'application/json',\n",
    "                       'Accept': 'application/json', \n",
    "                       'Prefer': 'respond-async'}"
   ]
  },
  {
   "cell_type": "code",
   "execution_count": 78,
   "metadata": {},
   "outputs": [],
   "source": [
    "process_id = 'vegetation_index_'"
   ]
  },
  {
   "cell_type": "code",
   "execution_count": 79,
   "metadata": {},
   "outputs": [
    {
     "name": "stdout",
     "output_type": "stream",
     "text": [
      "201 Created\n"
     ]
    }
   ],
   "source": [
    "r = requests.post(f'{endpoint}/wps3/processes/{process_id}/jobs',\n",
    "                  json=execute_request,\n",
    "                  headers=execution_headers)\n",
    "\n",
    "print(r.status_code, r.reason)"
   ]
  },
  {
   "cell_type": "code",
   "execution_count": 80,
   "metadata": {},
   "outputs": [
    {
     "data": {
      "text/plain": [
       "'/watchjob/processes/vegetation_index_/jobs/0528ea60-144f-11eb-b6f2-0a580a8105b1'"
      ]
     },
     "execution_count": 80,
     "metadata": {},
     "output_type": "execute_result"
    }
   ],
   "source": [
    "job_location = r.headers['Location']\n",
    "\n",
    "job_location"
   ]
  },
  {
   "cell_type": "markdown",
   "metadata": {},
   "source": [
    "## Poll /processes/{id}/jobs/{job_id}"
   ]
  },
  {
   "cell_type": "code",
   "execution_count": 81,
   "metadata": {},
   "outputs": [
    {
     "name": "stdout",
     "output_type": "stream",
     "text": [
      "200 OK\n"
     ]
    }
   ],
   "source": [
    "r = requests.get(f'{endpoint}{job_location}',\n",
    "                 headers=headers)\n",
    "\n",
    "print(r.status_code, r.reason)"
   ]
  },
  {
   "cell_type": "code",
   "execution_count": 82,
   "metadata": {},
   "outputs": [
    {
     "data": {
      "text/plain": [
       "{'jobID': '0528ea60-144f-11eb-b6f2-0a580a8105b1',\n",
       " 'status': 'running',\n",
       " 'message': 'running',\n",
       " 'progress': '0',\n",
       " 'links': [{'href': 'http://wps-eoepca-dev.terradue.com/t2dep//processes/vegetation_index_/jobs/0528ea60-144f-11eb-b6f2-0a580a8105b1',\n",
       "   'rel': 'self',\n",
       "   'type': 'application/json',\n",
       "   'title': 'get Status'}]}"
      ]
     },
     "execution_count": 82,
     "metadata": {},
     "output_type": "execute_result"
    }
   ],
   "source": [
    "response = r.json()\n",
    "\n",
    "response"
   ]
  },
  {
   "cell_type": "code",
   "execution_count": null,
   "metadata": {},
   "outputs": [
    {
     "name": "stdout",
     "output_type": "stream",
     "text": [
      "Polling - running\n",
      "Polling - running\n",
      "Polling - running\n",
      "Polling - running\n",
      "Polling - running\n",
      "Polling - running\n",
      "Polling - running\n",
      "Polling - running\n",
      "Polling - running\n",
      "Polling - running\n",
      "Polling - running\n",
      "Polling - running\n",
      "Polling - running\n",
      "Polling - running\n",
      "Polling - running\n",
      "Polling - running\n",
      "Polling - running\n",
      "Polling - running\n",
      "Polling - running\n",
      "Polling - running\n",
      "Polling - running\n",
      "Polling - running\n",
      "Polling - running\n",
      "Polling - running\n",
      "Polling - running\n",
      "Polling - running\n",
      "Polling - running\n",
      "Polling - running\n",
      "Polling - running\n",
      "Polling - running\n"
     ]
    }
   ],
   "source": [
    "\n",
    "while response['status'] == 'running':\n",
    "\n",
    "    r = requests.get(f'{endpoint}{job_location}',\n",
    "                 headers=headers)\n",
    "    \n",
    "    response = r.json()\n",
    "    \n",
    "    if response['status'] == 'failed': \n",
    "    \n",
    "        print(response)\n",
    "        \n",
    "        break\n",
    "        \n",
    "    if response['status'] == 'successful':  \n",
    "\n",
    "        print(response['links'][0]['href'])\n",
    "        \n",
    "        break\n",
    "    \n",
    "    else:\n",
    "        \n",
    "        print('Polling - {}'.format(response['status']))\n",
    "        \n",
    "        sleep(30)\n",
    "        "
   ]
  },
  {
   "cell_type": "markdown",
   "metadata": {},
   "source": [
    "## Results - /processes/{id}/jobs/{job_id}/result"
   ]
  },
  {
   "cell_type": "code",
   "execution_count": null,
   "metadata": {},
   "outputs": [],
   "source": [
    "response"
   ]
  },
  {
   "cell_type": "code",
   "execution_count": null,
   "metadata": {},
   "outputs": [],
   "source": [
    "r = requests.get(f'{endpoint}/{job_location}/result',\n",
    "                 headers=headers)\n",
    "\n",
    "print(r.status_code, r.reason)"
   ]
  },
  {
   "cell_type": "code",
   "execution_count": null,
   "metadata": {},
   "outputs": [],
   "source": [
    "response = r.json()\n",
    "\n",
    "response"
   ]
  },
  {
   "cell_type": "code",
   "execution_count": null,
   "metadata": {},
   "outputs": [],
   "source": [
    "results = json.loads(response['outputs'][0]['value']['inlineValue'])\n",
    "\n",
    "results"
   ]
  },
  {
   "cell_type": "markdown",
   "metadata": {},
   "source": [
    "## Inspect the results\n",
    "\n",
    "Use the STAC catalog endpoint in the \"Exploiting the result.ipynb\" Notebook "
   ]
  },
  {
   "cell_type": "code",
   "execution_count": null,
   "metadata": {},
   "outputs": [],
   "source": [
    "stac_catalog_endpoint = results['stac:catalog']['href']\n",
    "\n",
    "stac_catalog_endpoint"
   ]
  },
  {
   "cell_type": "code",
   "execution_count": null,
   "metadata": {},
   "outputs": [],
   "source": []
  }
 ],
 "metadata": {
  "kernelspec": {
   "display_name": "EOPECA-demo",
   "language": "python",
   "name": "eopeca-demo"
  },
  "language_info": {
   "codemirror_mode": {
    "name": "ipython",
    "version": 3
   },
   "file_extension": ".py",
   "mimetype": "text/x-python",
   "name": "python",
   "nbconvert_exporter": "python",
   "pygments_lexer": "ipython3",
   "version": "3.9.0"
  }
 },
 "nbformat": 4,
 "nbformat_minor": 4
}
