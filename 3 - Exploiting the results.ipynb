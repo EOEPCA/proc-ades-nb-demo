{
 "cells": [
  {
   "cell_type": "markdown",
   "metadata": {},
   "source": [
    "## Exploiting the results\n",
    "\n",
    "Discovery and exploition of the generated results using STAC  "
   ]
  },
  {
   "cell_type": "code",
   "execution_count": null,
   "metadata": {},
   "outputs": [],
   "source": [
    "from urllib.parse import urlparse\n",
    "import requests\n",
    "from pystac import STAC_IO\n",
    "from requests.auth import HTTPBasicAuth\n",
    "from pystac import *\n",
    "import matplotlib.pyplot as plt\n",
    "import getpass \n",
    "import gdal"
   ]
  },
  {
   "cell_type": "code",
   "execution_count": null,
   "metadata": {},
   "outputs": [],
   "source": [
    "%matplotlib inline"
   ]
  },
  {
   "cell_type": "code",
   "execution_count": null,
   "metadata": {},
   "outputs": [],
   "source": [
    "username = 'eoepca-demo-storage'"
   ]
  },
  {
   "cell_type": "code",
   "execution_count": null,
   "metadata": {},
   "outputs": [],
   "source": [
    "password = getpass.getpass('Storage password:')"
   ]
  },
  {
   "cell_type": "code",
   "execution_count": null,
   "metadata": {},
   "outputs": [],
   "source": [
    "stac_catalog_endpoint = 'https://nx10438.your-storageshare.de/remote.php/dav/files/eoepca-demo-storage/wf-30d3c924-13b3-11eb-834e-0a580a8105b1/stac-results/catalog.json'"
   ]
  },
  {
   "cell_type": "code",
   "execution_count": null,
   "metadata": {},
   "outputs": [],
   "source": [
    "def my_read_method(uri):\n",
    "    \n",
    "    parsed = urlparse(uri)\n",
    "    \n",
    "    if parsed.scheme.startswith('http'):\n",
    "        \n",
    "        return requests.get(uri, \n",
    "                            auth=HTTPBasicAuth(username, password)\n",
    "                           ).text\n",
    "    else:\n",
    "        return STAC_IO.default_read_text_method(uri)\n",
    "\n",
    "STAC_IO.read_text_method = my_read_method"
   ]
  },
  {
   "cell_type": "code",
   "execution_count": null,
   "metadata": {},
   "outputs": [],
   "source": [
    "catalog = Catalog.from_file(stac_catalog_endpoint)\n",
    "\n",
    "catalog.describe()"
   ]
  },
  {
   "cell_type": "code",
   "execution_count": null,
   "metadata": {},
   "outputs": [],
   "source": [
    "item = next(catalog.get_items())"
   ]
  },
  {
   "cell_type": "code",
   "execution_count": null,
   "metadata": {},
   "outputs": [],
   "source": [
    "item.get_assets()"
   ]
  },
  {
   "cell_type": "code",
   "execution_count": null,
   "metadata": {},
   "outputs": [],
   "source": [
    "nbr_asset = item.get_assets()['nbr']\n",
    "\n",
    "nbr_asset.get_absolute_href()"
   ]
  },
  {
   "cell_type": "code",
   "execution_count": null,
   "metadata": {},
   "outputs": [],
   "source": []
  },
  {
   "cell_type": "code",
   "execution_count": null,
   "metadata": {},
   "outputs": [],
   "source": [
    "def get_vsi_url(uri, username=None, password=None):\n",
    "    \n",
    "    \n",
    "    parsed_url = urlparse(uri)\n",
    "\n",
    "    if username is not None:\n",
    "        \n",
    "        url = '/vsicurl/{}://{}:{}@{}/{}'.format(list(parsed_url)[0],\n",
    "                                                username, \n",
    "                                                password, \n",
    "                                                list(parsed_url)[1],\n",
    "                                                list(parsed_url)[2])\n",
    "    \n",
    "    else:\n",
    "        \n",
    "        url = '/vsicurl/{}://{}/{}'.format(list(parsed_url)[0],\n",
    "                                              list(parsed_url)[1],\n",
    "                                              list(parsed_url)[2])\n",
    "    \n",
    "    return url "
   ]
  },
  {
   "cell_type": "code",
   "execution_count": null,
   "metadata": {},
   "outputs": [],
   "source": [
    "ds = gdal.Open(get_vsi_url(uri=nbr_asset.get_absolute_href(),\n",
    "               username=username, \n",
    "               password=password))"
   ]
  },
  {
   "cell_type": "code",
   "execution_count": null,
   "metadata": {},
   "outputs": [],
   "source": [
    "nbr_band = ds.GetRasterBand(1)"
   ]
  },
  {
   "cell_type": "code",
   "execution_count": null,
   "metadata": {},
   "outputs": [],
   "source": [
    "nbr_data = nbr_band.ReadAsArray()"
   ]
  },
  {
   "cell_type": "code",
   "execution_count": null,
   "metadata": {},
   "outputs": [],
   "source": [
    "fig = plt.figure(figsize=(25,25))"
   ]
  },
  {
   "cell_type": "code",
   "execution_count": null,
   "metadata": {},
   "outputs": [],
   "source": [
    "imgplot = plt.imshow(nbr_data.reshape(nbr_data.shape[0],\n",
    "                                      nbr_data.shape[1]), \n",
    "                     cmap=plt.cm.gray) "
   ]
  },
  {
   "cell_type": "code",
   "execution_count": null,
   "metadata": {},
   "outputs": [],
   "source": []
  }
 ],
 "metadata": {
  "kernelspec": {
   "display_name": "Python 3",
   "language": "python",
   "name": "python3"
  },
  "language_info": {
   "codemirror_mode": {
    "name": "ipython",
    "version": 3
   },
   "file_extension": ".py",
   "mimetype": "text/x-python",
   "name": "python",
   "nbconvert_exporter": "python",
   "pygments_lexer": "ipython3",
   "version": "3.8.5"
  }
 },
 "nbformat": 4,
 "nbformat_minor": 4
}
