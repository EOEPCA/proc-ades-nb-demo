{
 "cells": [
  {
   "cell_type": "markdown",
   "metadata": {},
   "source": [
    "## Exploit Results\n",
    "Retrieve job output files linked from the job status report"
   ]
  },
  {
   "cell_type": "code",
   "execution_count": null,
   "metadata": {},
   "outputs": [],
   "source": [
    "from urllib.parse import urlparse\n",
    "import requests\n",
    "import json\n",
    "from pystac import STAC_IO\n",
    "from requests.auth import HTTPBasicAuth\n",
    "from pystac import *\n",
    "import matplotlib.pyplot as plt\n",
    "import getpass \n",
    "import gdal"
   ]
  },
  {
   "cell_type": "code",
   "execution_count": null,
   "metadata": {},
   "outputs": [],
   "source": [
    "# Job already completed\n",
    "# ---------------------\n",
    "job_location = \"/watchjob/processes/vegetation_index_/jobs/f99f877e-1941-11eb-b04f-0242ac110006\"\n",
    "# ---------------------\n",
    "endpoint = 'http://proc-ades.test.192.168.49.2.nip.io'\n",
    "token = \"eyJhbGciOiJIUzI1NiIsImtpZCI6IlJTQTEifQ.eyJhY3RpdmUiOnRydWUsImV4cCI6MTU5MzUxNTU2NSwiaWF0IjoxNTkzNTExOTY1LCJuYmYiOm51bGwsInBlcm1pc3Npb25zIjpbeyJyZXNvdXJjZV9pZCI6ImI3Y2FkZTVjLTM3MmYtNGM4Ny1iZTgyLWE3OTU2NDk4ZTcyOSIsInJlc291cmNlX3Njb3BlcyI6WyJBdXRoZW50aWNhdGVkIiwib3BlbmlkIl0sImV4cCI6MTU5MzUxNTU2NCwicGFyYW1zIjpudWxsfV0sImNsaWVudF9pZCI6IjYxY2UyOGQ1LWFhMTYtNGRkYy04NDJmLWZjYzE1OGQzMTVmYSIsInN1YiI6bnVsbCwiYXVkIjoiNjFjZTI4ZDUtYWExNi00ZGRjLTg0MmYtZmNjMTU4ZDMxNWZhIiwiaXNzIjpudWxsLCJqdGkiOm51bGwsInBjdF9jbGFpbXMiOnsiYXVkIjpbIjYxY2UyOGQ1LWFhMTYtNGRkYy04NDJmLWZjYzE1OGQzMTVmYSJdLCJzdWIiOlsiZWIzMTQyMWUtMGEyZS00OTBmLWJiYWYtMDk3MWE0ZTliNzhhIl0sInVzZXJfbmFtZSI6WyJyaWNvbndheSJdLCJpc3MiOlsiaHR0cHM6Ly9lb2VwY2EtZGV2LmRlaW1vcy1zcGFjZS5jb20iXSwiZXhwIjpbIjE1OTM1MTU1NjQiXSwiaWF0IjpbIjE1OTM1MTE5NjQiXSwib3hPcGVuSURDb25uZWN0VmVyc2lvbiI6WyJvcGVuaWRjb25uZWN0LTEuMCJdfX0.d5qeaqLfl0oh9KigVrM_lT1hZMaOzQBFB7jjaKI3PjE\"\n",
    "headers = {'Authorization': f'Bearer {token}', 'Content-Type': 'application/json', 'Accept': 'application/json'}"
   ]
  },
  {
   "cell_type": "markdown",
   "metadata": {},
   "source": [
    "### Job Status"
   ]
  },
  {
   "cell_type": "code",
   "execution_count": null,
   "metadata": {},
   "outputs": [],
   "source": [
    "r = requests.get(f'{endpoint}{job_location}', headers=headers)\n",
    "print(r.status_code, r.reason)\n",
    "response = r.json()\n",
    "print(json.dumps(response, indent=2))"
   ]
  },
  {
   "cell_type": "markdown",
   "metadata": {},
   "source": [
    "### Job Results - (GET /processes/{id}/jobs/{job_id}/result)"
   ]
  },
  {
   "cell_type": "code",
   "execution_count": null,
   "metadata": {},
   "outputs": [],
   "source": [
    "# Request the results\n",
    "# -------------------\n",
    "r = requests.get(f'{endpoint}/{job_location}/result', headers=headers)\n",
    "# -------------------\n",
    "print(r.status_code, r.reason)\n",
    "\n",
    "# Interpret the response\n",
    "response = r.json()\n",
    "results = json.loads(response['outputs'][0]['value']['inlineValue'])\n",
    "print(json.dumps(results, indent=2))\n",
    "stac_catalog_endpoint = results['stac:catalog']['href']\n",
    "print(f\"STAC catalogue results index = {stac_catalog_endpoint}\")"
   ]
  },
  {
   "cell_type": "markdown",
   "metadata": {},
   "source": [
    "## Exploiting the results\n",
    "\n",
    "Discovery and exploition of the generated results using STAC  "
   ]
  },
  {
   "cell_type": "markdown",
   "metadata": {},
   "source": [
    "### Enumerate the result files from the STAC catalogue file"
   ]
  },
  {
   "cell_type": "code",
   "execution_count": null,
   "metadata": {},
   "outputs": [],
   "source": [
    "%matplotlib inline\n",
    "# Credentials for 'workspace' to access results\n",
    "username = 'eoepca'\n",
    "password = \"telespazio\"\n",
    "\n",
    "# Configure STAC library to access workspace via http\n",
    "def my_read_method(uri):\n",
    "    parsed = urlparse(uri)\n",
    "    if parsed.scheme.startswith('http'):\n",
    "        return requests.get(uri, auth=HTTPBasicAuth(username, password)).text\n",
    "    else:\n",
    "        return STAC_IO.default_read_text_method(uri)\n",
    "STAC_IO.read_text_method = my_read_method\n",
    "\n",
    "# Interrogate the STAC catalgue file to enumerate the results\n",
    "catalog = Catalog.from_file(stac_catalog_endpoint)\n",
    "item = next(catalog.get_items())\n",
    "print(f\"result assets =\\n{item.get_assets()}\")\n",
    "nbr_asset = item.get_assets()['nbr']\n",
    "nbr_asset.get_absolute_href()\n",
    "print(f\"Normalized burn ratio =\\n{nbr_asset.get_absolute_href()}\")"
   ]
  },
  {
   "cell_type": "markdown",
   "metadata": {},
   "source": [
    "### Visualise the Normalized Burn Ratio"
   ]
  },
  {
   "cell_type": "code",
   "execution_count": null,
   "metadata": {},
   "outputs": [],
   "source": [
    "# GDAL url prep\n",
    "def get_vsi_url(uri, username=None, password=None):\n",
    "    parsed_url = urlparse(uri)\n",
    "    if username is not None:\n",
    "        url = '/vsicurl/{}://{}:{}@{}/{}'.format(list(parsed_url)[0], username, password, list(parsed_url)[1], list(parsed_url)[2])\n",
    "    else:\n",
    "        url = '/vsicurl/{}://{}/{}'.format(list(parsed_url)[0], list(parsed_url)[1], list(parsed_url)[2])\n",
    "    return url\n",
    "\n",
    "# Retrieve the data as numpy array\n",
    "ds = gdal.Open(get_vsi_url(uri=nbr_asset.get_absolute_href(), username=username,  password=password))\n",
    "nbr_band = ds.GetRasterBand(1)\n",
    "nbr_data = nbr_band.ReadAsArray()\n",
    "\n",
    "# Visualise\n",
    "fig = plt.figure(figsize=(25,25))\n",
    "imgplot = plt.imshow(nbr_data.reshape(nbr_data.shape[0], nbr_data.shape[1]), cmap=plt.cm.gray)"
   ]
  }
 ],
 "metadata": {
  "kernelspec": {
   "display_name": "EOPECA-demo",
   "language": "python",
   "name": "eopeca-demo"
  },
  "language_info": {
   "codemirror_mode": {
    "name": "ipython",
    "version": 3
   },
   "file_extension": ".py",
   "mimetype": "text/x-python",
   "name": "python",
   "nbconvert_exporter": "python",
   "pygments_lexer": "ipython3",
   "version": "3.9.0"
  }
 },
 "nbformat": 4,
 "nbformat_minor": 4
}
